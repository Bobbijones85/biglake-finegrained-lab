{
 "cells": [
  {
   "cell_type": "code",
   "execution_count": null,
   "id": "037fdd01-56c7-4beb-a828-ac8833875794",
   "metadata": {},
   "outputs": [],
   "source": [
    "spark = SparkSession.builder.appName(\n",
    "    'Read from Big Query into DataFrame').getOrCreate()"
   ]
  },
  {
   "cell_type": "code",
   "execution_count": null,
   "id": "342b7068-6aeb-4430-9ae3-730709c133f2",
   "metadata": {},
   "outputs": [],
   "source": [
    "df = spark.read \\\n",
    "  .format(\"bigquery\") \\\n",
    "  .load(\"<your-project-name-here>.biglake_dataset.IceCreamSales\") \\\n",
    "  .select(\"Gross_Revenue\", \"Month\", \"Country\")"
   ]
  },
  {
   "cell_type": "code",
   "execution_count": null,
   "id": "52738b72-8a04-47fd-a8a5-78d7a60545e7",
   "metadata": {},
   "outputs": [],
   "source": [
    "df.show(100)"
   ]
  },
  {
   "cell_type": "code",
   "execution_count": null,
   "id": "011424da-a2a1-4015-a9d8-965754d26d0a",
   "metadata": {},
   "outputs": [],
   "source": []
  }
 ],
 "metadata": {
  "kernelspec": {
   "display_name": "Python 3.9.12 64-bit",
   "language": "python",
   "name": "python3"
  },
  "language_info": {
   "codemirror_mode": {
    "name": "ipython",
    "version": 3
   },
   "file_extension": ".py",
   "mimetype": "text/x-python",
   "name": "python",
   "nbconvert_exporter": "python",
   "pygments_lexer": "ipython3",
   "version": "3.9.12"
  },
  "vscode": {
   "interpreter": {
    "hash": "aee8b7b246df8f9039afb4144a1f6fd8d2ca17a180786b69acc140d282b71a49"
   }
  }
 },
 "nbformat": 4,
 "nbformat_minor": 5
}
