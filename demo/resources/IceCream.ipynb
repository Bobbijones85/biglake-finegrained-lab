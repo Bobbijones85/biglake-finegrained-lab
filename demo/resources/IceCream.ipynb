{
 "cells": [
  {
   "cell_type": "code",
   "execution_count": null,
   "id": "1321bce9-178c-4065-8187-0a5728c1a370",
   "metadata": {},
   "outputs": [],
   "source": [
    "import pandas as pd\n",
    "from prophet import Prophet\n",
    "from pyspark.sql.functions import month, date_format\n",
    "from pyspark.sql.types import IntegerType\n",
    "import warnings\n",
    "warnings.filterwarnings('ignore')\n",
    "\n",
    "spark = SparkSession.builder.appName(\n",
    "    'Read from Big Query into DataFrame').getOrCreate()"
   ]
  },
  {
   "cell_type": "code",
   "execution_count": null,
   "id": "f28c3a11-793a-4a31-a00a-1582c0c04431",
   "metadata": {},
   "outputs": [],
   "source": [
    "df = spark.read \\\n",
    "  .format(\"bigquery\") \\\n",
    "  .load(\"<your-project-name-here>.biglake_dataset.IceCreamSales\")"
   ]
  },
  {
   "cell_type": "code",
   "execution_count": null,
   "id": "c35520d8-4d9d-4d72-b033-306c742d892f",
   "metadata": {},
   "outputs": [],
   "source": [
    "df.show(10)"
   ]
  },
  {
   "cell_type": "code",
   "execution_count": null,
   "id": "655c3269-0d51-48f1-8dfd-f8e6d22f8def",
   "metadata": {},
   "outputs": [],
   "source": [
    "cleaneddDf = df.select(date_format('Month', 'MM/yyyy')\n",
    "                       .alias('ds'), \"Gross_Revenue\").withColumn(\"Revenue\", df[\"Gross_Revenue\"].cast(IntegerType()))\n",
    "groupedDf = cleaneddDf.groupBy('ds').sum(\"Revenue\").withColumnRenamed(\"sum(Revenue)\", \"y\")\n",
    "history = groupedDf.toPandas()"
   ]
  },
  {
   "cell_type": "code",
   "execution_count": null,
   "id": "3884e7c2-a906-4590-9db2-2259319804e2",
   "metadata": {},
   "outputs": [],
   "source": [
    "model = Prophet(\n",
    "    interval_width=0.90\n",
    ")"
   ]
  },
  {
   "cell_type": "code",
   "execution_count": null,
   "id": "6e28b86e-92bf-4dfb-ba81-9d9bea7d1851",
   "metadata": {},
   "outputs": [],
   "source": [
    "model.fit(history)"
   ]
  },
  {
   "cell_type": "code",
   "execution_count": null,
   "id": "78e2b0ef-a625-4b97-bd86-3bdb59cfdbed",
   "metadata": {},
   "outputs": [],
   "source": [
    "future_date = model.make_future_dataframe(\n",
    "    periods=6,\n",
    "    freq='m',\n",
    "    include_history=True\n",
    ")"
   ]
  },
  {
   "cell_type": "code",
   "execution_count": null,
   "id": "eab6337d-280f-4120-92cc-e169f8257f38",
   "metadata": {},
   "outputs": [],
   "source": [
    "forecast = model.predict(future_date)"
   ]
  },
  {
   "cell_type": "code",
   "execution_count": null,
   "id": "978fe7bd-638f-429b-b8da-ce232cd0e5d1",
   "metadata": {},
   "outputs": [],
   "source": [
    "predict_chart = model.plot(forecast, xlabel='date', ylabel='sales')"
   ]
  },
  {
   "cell_type": "code",
   "execution_count": null,
   "id": "455dee70-011c-46ec-a927-c430b45484b2",
   "metadata": {},
   "outputs": [],
   "source": [
    "forecast[['ds', 'yhat', 'yhat_lower', 'yhat_upper']].tail()"
   ]
  },
  {
   "cell_type": "code",
   "execution_count": null,
   "id": "4700f6b1-6806-4084-bc21-e011f6b8a6ed",
   "metadata": {},
   "outputs": [],
   "source": []
  }
 ],
 "metadata": {
  "kernelspec": {
   "display_name": "Python 3",
   "language": "python",
   "name": "python3"
  },
  "language_info": {
   "codemirror_mode": {
    "name": "ipython",
    "version": 3
   },
   "file_extension": ".py",
   "mimetype": "text/x-python",
   "name": "python",
   "nbconvert_exporter": "python",
   "pygments_lexer": "ipython3",
   "version": "3.9.12"
  },
  "vscode": {
   "interpreter": {
    "hash": "aee8b7b246df8f9039afb4144a1f6fd8d2ca17a180786b69acc140d282b71a49"
   }
  }
 },
 "nbformat": 4,
 "nbformat_minor": 5
}
